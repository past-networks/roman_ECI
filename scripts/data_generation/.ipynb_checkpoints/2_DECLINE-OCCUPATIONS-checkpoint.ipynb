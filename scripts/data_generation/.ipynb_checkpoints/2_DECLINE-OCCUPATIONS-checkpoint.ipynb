{
 "cells": [
  {
   "cell_type": "markdown",
   "metadata": {},
   "source": [
    "# Step 1: Latin occupations - dataset generation\n",
    "\n",
    "*AIM*: This script generates a corpus of Latin occupations with its complete morphology.\n",
    "\n",
    "References:\n",
    "\n",
    "1) `Waltzing JP. Étude historique sur les corporations professionnelles chez les Romains depuis les origines jusqu’à la chute de l’Empire d’Occident. Louvain: C. Peeters; 1895.`\n",
    "2) `Petrikovits H v. Die Spezialisierung des römischen Handwerks. Handw Vor- Frühgesch Zeit 1 Hist Rechtshistorische Beitr Untersuchungen Zur Frühgesch Gilde Ber Über Kolloquien Komm Für Altertumskunde Mittel- Nordeur Den Jahren 1977 Bis 1980. 1981; 63–132.`"
   ]
  },
  {
   "cell_type": "markdown",
   "metadata": {},
   "source": [
    "\n",
    "This script was originally published by Kaše V, Heřmánková P, Sobotková A (2022) Division of labor, specialization and diversity in the ancient Roman cities: A quantitative approach to Latin epigraphy. PLoS ONE 17(6): e0269869. https://doi.org/10.1371/journal.pone.0269869 under a CC BY-SA 4.0 International License.\n",
    "\n",
    "https://github.com/sdam-au/social_diversity\n",
    "\n",
    "The *Past Social Networks Project* adapted the script to fit the needs of the project research agenda."
   ]
  },
  {
   "cell_type": "markdown",
   "metadata": {},
   "source": [
    "## Data:\n",
    "\n",
    "**IN**:\n",
    "\n",
    "1) Occupations `occupations_list_hisco.csv`\n",
    "\n",
    "\n",
    "**OUT**: \n",
    "\n",
    "1) Declined occupations `occups_declined_dict.json`\n",
    "\n"
   ]
  },
  {
   "cell_type": "code",
   "execution_count": 1,
   "metadata": {},
   "outputs": [],
   "source": [
    "import geopandas as gpd\n",
    "import pandas as pd\n",
    "import re\n",
    "import json"
   ]
  },
  {
   "cell_type": "code",
   "execution_count": 2,
   "metadata": {},
   "outputs": [
    {
     "data": {
      "text/html": [
       "<div>\n",
       "<style scoped>\n",
       "    .dataframe tbody tr th:only-of-type {\n",
       "        vertical-align: middle;\n",
       "    }\n",
       "\n",
       "    .dataframe tbody tr th {\n",
       "        vertical-align: top;\n",
       "    }\n",
       "\n",
       "    .dataframe thead th {\n",
       "        text-align: right;\n",
       "    }\n",
       "</style>\n",
       "<table border=\"1\" class=\"dataframe\">\n",
       "  <thead>\n",
       "    <tr style=\"text-align: right;\">\n",
       "      <th></th>\n",
       "      <th>Term</th>\n",
       "      <th>gen_sg</th>\n",
       "      <th>Term2</th>\n",
       "      <th>Vocab_nom_sg</th>\n",
       "      <th>Source</th>\n",
       "      <th>HISCO_majorgroup</th>\n",
       "      <th>HISCO_minorgroup</th>\n",
       "      <th>Harris_Category</th>\n",
       "      <th>Subcategory</th>\n",
       "      <th>Translation_eng</th>\n",
       "    </tr>\n",
       "  </thead>\n",
       "  <tbody>\n",
       "    <tr>\n",
       "      <th>0</th>\n",
       "      <td>abetarius</td>\n",
       "      <td>i</td>\n",
       "      <td>NaN</td>\n",
       "      <td>NaN</td>\n",
       "      <td>Petrikovits 1981a</td>\n",
       "      <td>8.0</td>\n",
       "      <td>81.0</td>\n",
       "      <td>Building</td>\n",
       "      <td>Wood worker</td>\n",
       "      <td>a joiner, wood worker</td>\n",
       "    </tr>\n",
       "    <tr>\n",
       "      <th>1</th>\n",
       "      <td>abietarius</td>\n",
       "      <td>i</td>\n",
       "      <td>NaN</td>\n",
       "      <td>NaN</td>\n",
       "      <td>Petrikovits 1981a</td>\n",
       "      <td>8.0</td>\n",
       "      <td>81.0</td>\n",
       "      <td>Building</td>\n",
       "      <td>Wood worker</td>\n",
       "      <td>a joiner, wood worker</td>\n",
       "    </tr>\n",
       "    <tr>\n",
       "      <th>2</th>\n",
       "      <td>acceptor</td>\n",
       "      <td>oris</td>\n",
       "      <td>NaN</td>\n",
       "      <td>acceptor</td>\n",
       "      <td>Waltzing - Rome</td>\n",
       "      <td>3.0</td>\n",
       "      <td>31.0</td>\n",
       "      <td>Finance</td>\n",
       "      <td>NaN</td>\n",
       "      <td>collector, gold quality checker</td>\n",
       "    </tr>\n",
       "    <tr>\n",
       "      <th>3</th>\n",
       "      <td>accomodator</td>\n",
       "      <td>oris</td>\n",
       "      <td>NaN</td>\n",
       "      <td>NaN</td>\n",
       "      <td>Petrikovits 1981a</td>\n",
       "      <td>9.0</td>\n",
       "      <td>99.0</td>\n",
       "      <td>Unclassified</td>\n",
       "      <td>NaN</td>\n",
       "      <td>uncertain, craftsman</td>\n",
       "    </tr>\n",
       "    <tr>\n",
       "      <th>4</th>\n",
       "      <td>aceptor</td>\n",
       "      <td>oris</td>\n",
       "      <td>NaN</td>\n",
       "      <td>NaN</td>\n",
       "      <td>Petrikovits 1981a</td>\n",
       "      <td>3.0</td>\n",
       "      <td>31.0</td>\n",
       "      <td>Finance</td>\n",
       "      <td>NaN</td>\n",
       "      <td>collector, gold quality checker</td>\n",
       "    </tr>\n",
       "  </tbody>\n",
       "</table>\n",
       "</div>"
      ],
      "text/plain": [
       "          Term gen_sg Term2 Vocab_nom_sg             Source  HISCO_majorgroup  \\\n",
       "0    abetarius      i   NaN          NaN  Petrikovits 1981a               8.0   \n",
       "1   abietarius      i   NaN          NaN  Petrikovits 1981a               8.0   \n",
       "2     acceptor   oris   NaN     acceptor    Waltzing - Rome               3.0   \n",
       "3  accomodator   oris   NaN          NaN  Petrikovits 1981a               9.0   \n",
       "4      aceptor   oris   NaN          NaN  Petrikovits 1981a               3.0   \n",
       "\n",
       "   HISCO_minorgroup Harris_Category  Subcategory  \\\n",
       "0              81.0        Building  Wood worker   \n",
       "1              81.0        Building  Wood worker   \n",
       "2              31.0         Finance          NaN   \n",
       "3              99.0    Unclassified          NaN   \n",
       "4              31.0         Finance          NaN   \n",
       "\n",
       "                   Translation_eng  \n",
       "0            a joiner, wood worker  \n",
       "1            a joiner, wood worker  \n",
       "2  collector, gold quality checker  \n",
       "3             uncertain, craftsman  \n",
       "4  collector, gold quality checker  "
      ]
     },
     "execution_count": 2,
     "metadata": {},
     "output_type": "execute_result"
    }
   ],
   "source": [
    "# load the occupation list from GitHub\n",
    "occupations_df = pd.read_csv(\"../../data/data_generation/occupations_list_hisco.csv\")\n",
    "occupations_df.head(5)"
   ]
  },
  {
   "cell_type": "code",
   "execution_count": 3,
   "metadata": {
    "pycharm": {
     "name": "#%%\n"
    }
   },
   "outputs": [
    {
     "data": {
      "text/html": [
       "<div>\n",
       "<style scoped>\n",
       "    .dataframe tbody tr th:only-of-type {\n",
       "        vertical-align: middle;\n",
       "    }\n",
       "\n",
       "    .dataframe tbody tr th {\n",
       "        vertical-align: top;\n",
       "    }\n",
       "\n",
       "    .dataframe thead th {\n",
       "        text-align: right;\n",
       "    }\n",
       "</style>\n",
       "<table border=\"1\" class=\"dataframe\">\n",
       "  <thead>\n",
       "    <tr style=\"text-align: right;\">\n",
       "      <th></th>\n",
       "      <th>Term</th>\n",
       "      <th>gen_sg</th>\n",
       "      <th>Term2</th>\n",
       "      <th>Vocab_nom_sg</th>\n",
       "      <th>Source</th>\n",
       "      <th>HISCO_majorgroup</th>\n",
       "      <th>HISCO_minorgroup</th>\n",
       "      <th>Harris_Category</th>\n",
       "      <th>Subcategory</th>\n",
       "      <th>Translation_eng</th>\n",
       "    </tr>\n",
       "  </thead>\n",
       "  <tbody>\n",
       "    <tr>\n",
       "      <th>0</th>\n",
       "      <td>abetarius</td>\n",
       "      <td>i</td>\n",
       "      <td>NaN</td>\n",
       "      <td>abetarius</td>\n",
       "      <td>Petrikovits 1981a</td>\n",
       "      <td>8.0</td>\n",
       "      <td>81.0</td>\n",
       "      <td>Building</td>\n",
       "      <td>Wood worker</td>\n",
       "      <td>a joiner, wood worker</td>\n",
       "    </tr>\n",
       "    <tr>\n",
       "      <th>1</th>\n",
       "      <td>abietarius</td>\n",
       "      <td>i</td>\n",
       "      <td>NaN</td>\n",
       "      <td>abietarius</td>\n",
       "      <td>Petrikovits 1981a</td>\n",
       "      <td>8.0</td>\n",
       "      <td>81.0</td>\n",
       "      <td>Building</td>\n",
       "      <td>Wood worker</td>\n",
       "      <td>a joiner, wood worker</td>\n",
       "    </tr>\n",
       "    <tr>\n",
       "      <th>2</th>\n",
       "      <td>acceptor</td>\n",
       "      <td>oris</td>\n",
       "      <td>NaN</td>\n",
       "      <td>acceptor</td>\n",
       "      <td>Waltzing - Rome</td>\n",
       "      <td>3.0</td>\n",
       "      <td>31.0</td>\n",
       "      <td>Finance</td>\n",
       "      <td>NaN</td>\n",
       "      <td>collector, gold quality checker</td>\n",
       "    </tr>\n",
       "    <tr>\n",
       "      <th>3</th>\n",
       "      <td>accomodator</td>\n",
       "      <td>oris</td>\n",
       "      <td>NaN</td>\n",
       "      <td>accomodator</td>\n",
       "      <td>Petrikovits 1981a</td>\n",
       "      <td>9.0</td>\n",
       "      <td>99.0</td>\n",
       "      <td>Unclassified</td>\n",
       "      <td>NaN</td>\n",
       "      <td>uncertain, craftsman</td>\n",
       "    </tr>\n",
       "    <tr>\n",
       "      <th>4</th>\n",
       "      <td>aceptor</td>\n",
       "      <td>oris</td>\n",
       "      <td>NaN</td>\n",
       "      <td>aceptor</td>\n",
       "      <td>Petrikovits 1981a</td>\n",
       "      <td>3.0</td>\n",
       "      <td>31.0</td>\n",
       "      <td>Finance</td>\n",
       "      <td>NaN</td>\n",
       "      <td>collector, gold quality checker</td>\n",
       "    </tr>\n",
       "  </tbody>\n",
       "</table>\n",
       "</div>"
      ],
      "text/plain": [
       "          Term gen_sg Term2 Vocab_nom_sg             Source  HISCO_majorgroup  \\\n",
       "0    abetarius      i   NaN    abetarius  Petrikovits 1981a               8.0   \n",
       "1   abietarius      i   NaN   abietarius  Petrikovits 1981a               8.0   \n",
       "2     acceptor   oris   NaN     acceptor    Waltzing - Rome               3.0   \n",
       "3  accomodator   oris   NaN  accomodator  Petrikovits 1981a               9.0   \n",
       "4      aceptor   oris   NaN      aceptor  Petrikovits 1981a               3.0   \n",
       "\n",
       "   HISCO_minorgroup Harris_Category  Subcategory  \\\n",
       "0              81.0        Building  Wood worker   \n",
       "1              81.0        Building  Wood worker   \n",
       "2              31.0         Finance          NaN   \n",
       "3              99.0    Unclassified          NaN   \n",
       "4              31.0         Finance          NaN   \n",
       "\n",
       "                   Translation_eng  \n",
       "0            a joiner, wood worker  \n",
       "1            a joiner, wood worker  \n",
       "2  collector, gold quality checker  \n",
       "3             uncertain, craftsman  \n",
       "4  collector, gold quality checker  "
      ]
     },
     "execution_count": 3,
     "metadata": {},
     "output_type": "execute_result"
    }
   ],
   "source": [
    "# custom script updating the morphological variant as nominative singular\n",
    "def update_vocab_nom_sg(row):\n",
    "    vocab_nom_sg = row[\"Vocab_nom_sg\"]\n",
    "    if isinstance(vocab_nom_sg, float):\n",
    "        vocab_nom_sg = row[\"Term\"]\n",
    "    return vocab_nom_sg\n",
    "\n",
    "occupations_df[\"Vocab_nom_sg\"] = occupations_df.apply(lambda row: update_vocab_nom_sg(row), axis=1)\n",
    "occupations_df.head(5)"
   ]
  },
  {
   "cell_type": "code",
   "execution_count": 4,
   "metadata": {},
   "outputs": [
    {
     "data": {
      "text/plain": [
       "[('abetarius', 'i', 'abetarius', nan),\n",
       " ('abietarius', 'i', 'abietarius', nan),\n",
       " ('acceptor', 'oris', 'acceptor', nan),\n",
       " ('accomodator', 'oris', 'accomodator', nan),\n",
       " ('aceptor', 'oris', 'aceptor', nan)]"
      ]
     },
     "execution_count": 4,
     "metadata": {},
     "output_type": "execute_result"
    }
   ],
   "source": [
    "occup_tups = [(occup_nom, occup_gen, word_to_dec, term2) for occup_nom, occup_gen, word_to_dec, term2 in zip(occupations_df[\"Term\"], occupations_df[\"gen_sg\"], occupations_df[\"Vocab_nom_sg\"], occupations_df[\"Term2\"])]\n",
    "occup_tups[:5]"
   ]
  },
  {
   "cell_type": "code",
   "execution_count": 5,
   "metadata": {},
   "outputs": [
    {
     "data": {
      "text/plain": [
       "[('negotiator artis vestiariae et lintiariae', 'oris', 'negotiator', nan),\n",
       " ('negotiator artis cretaria et vestiaria', 'oris', 'negotiator', nan),\n",
       " ('negotiator frumentariae et legumenaria', 'oris', 'negotiator', nan),\n",
       " ('negotiator suariae et pecuariae', 'oris', 'negotiator', nan),\n",
       " ('exactor auri argenti et aeris', 'oris', 'exactor', nan)]"
      ]
     },
     "execution_count": 5,
     "metadata": {},
     "output_type": "execute_result"
    }
   ],
   "source": [
    "# reorder from longest to shortest\n",
    "occup_tups = sorted(occup_tups, key = lambda x: len(x[0]), reverse=True)\n",
    "occup_tups[:5]"
   ]
  },
  {
   "cell_type": "code",
   "execution_count": 6,
   "metadata": {},
   "outputs": [],
   "source": [
    "# manually define declinations\n",
    "decs = {\n",
    "\"first_f\" : [\"a\", \"ae\", \"am\", \"e\", \"as\", \"arum\", \"is\"],\n",
    "\"first_gr_es\" : [\"es\",  \"ae\", \"en\", \"am\", \"e\", \"as\", \"arum\", \"is\", \"a\"],\n",
    "\n",
    "\"sec_m_us\" : [\"us\", \"i\", \"o\", \"um\", \"o\", \"i\", \"orum\", \"is\", \"os\"], # sg-nom, sg-gn, sg-dat, sg-ac, sg-abl, sg-nom, sg-gn, sg-dat, sg-ag\n",
    "\"sec_n\" : [\"um\", \"i\", \"o\", \"a\", \"orum\", \"is\"],\n",
    "\"sec_m_er\" : [\"er\", \"eri\", \"ero\", \"erum\" , \"eros\", \"erorum\", \"eris\"],\n",
    "\"sec_m_r\" : [\"er\", \"ri\", \"ro\", \"rum\" , \"ro\", \"ri\", \"rorum\", \"ris\", \"ros\"], # sg-nom, sg-gn, sg-dat, sg-ac, sg-abl, sg-nom, sg-gn, sg-dat, sg-ag\n",
    "\n",
    "\"sec_gr_os\" : [\"os\", \"i\", \"o\", \"on\" , \"e\", \"rorum\", \"ris\"],\n",
    "\"sec_gr_on\" : [\"on\", \"i\", \"o\", \"a\", \"orum\", \"is\"],\n",
    "\n",
    "\"third_m_1\" : [\"es\", \"itis\", \"iti\", \"ite\", \"ites\", \"itibus\", \"itum\"],\n",
    "\"third_m_2\" : [\"ix\", \"icis\", \"icem\", \"ici\", \"ice\", \"ices\", \"icibus\", \"icum\"],\n",
    "\"third_m_3\" : [\"ex\", \"icis\", \"icem\", \"ici\", \"ice\", \"ices\", \"icibus\", \"icum\"],\n",
    "\"third_m_4\" : [\"o\", \"onis\", \"onem\", \"oni\", \"one\", \"ones\", \"onibus\", \"onum\"],\n",
    "\"third_m_5a\" : [\"or\", \"oris\", \"ori\", \"orem\", \"ore\", \"ores\", \"orum\", \"oribus\", \"ores\"], # sg-nom, sg-gn, sg-dat, sg-ac, sg-abl, sg-nom, sg-gn, sg-dat, sg-ag\n",
    "\"third_m_5b\" : [\"ur\", \"uris\", \"urem\", \"uri\", \"ure\", \"ures\", \"uribus\", \"urum\"],\n",
    "\"third_m_6\" : [\"n\", \"nis\", \"nem\", \"ni\", \"ne\", \"nes\", \"nibus\", \"num\"],\n",
    "\"third_m_7a\" : [\"ensis\", \"ensis\", \"ensem\", \"ensi\", \"ense\", \"enses\", \"ensibus\", \"ensum\", \"ensium\"],\n",
    "\"third_m_7b\" : [\"esis\", \"esis\", \"esem\", \"esi\", \"ese\", \"eses\", \"esibus\", \"esum\", \"esium\"],\n",
    "\"third_m_8\" : [\"er\", \"eris\", \"erem\", \"eri\", \"ere\", \"eres\", \"eribus\", \"erum\", \"erium\"],\n",
    "\"third_m_9\" : [\"eps\", \"ipis\", \"ipem\", \"ipi\", \"ipe\", \"ipes\", \"ipibus\", \"ipum\"],\n",
    "\"third_m_10\" : [\"ans\", \"antis\", \"antem\", \"ante\", \"antes\", \"antium\", \"antum\", \"antibus\"],\n",
    "\"third_m_11\" : [\"er\", \"ineris\", \"ineri\", \"inere\", \"inera\", \"inerum\", \"ineribus\"],\n",
    "\"third_m_12\" : [\"ut\", \"itis\", \"iti\", \"ite\", \"ita\", \"itibus\", \"itum\"],\n",
    "\"third_m_13\" : [\"us\", \"oris\", \"ori\", \"ore\", \"ora\", \"orum\", \"oribus\"],\n",
    "    \n",
    "\"third_f_1\" : [\"as\", \"adis\", \"adi\", \"ade\", \"ades\", \"adum\", \"adium\", \"adibus\"],\n",
    "\"third_f_2\" : [\"as\", \"atis\", \"ati\", \"atem\", \"ate\", \"ates\", \"atum\", \"atibus\"],\n",
    "\n",
    "\"third_mix_1\" : [\"is\", \"is\", \"i\", \"em\", \"e\", \"es\", \"ium\", \"um\", \"ibus\"],\n",
    "\"third_mix_2\" : [\"ns\", \"ntis\", \"nti\", \"ntem\", \"nte\", \"ntes\", \"ntium\", \"ntum\", \"ntibus\"],\n",
    "    \n",
    "\"fourth_us\" : [\"us\", \"us\", \"ui\", \"um\", \"u\", \"uum\", \"ibus\"]\n",
    "}"
   ]
  },
  {
   "cell_type": "code",
   "execution_count": 7,
   "metadata": {},
   "outputs": [
    {
     "data": {
      "text/plain": [
       "[('negotiator artis vestiariae et lintiariae', 'oris', 'negotiator', nan),\n",
       " ('negotiator artis cretaria et vestiaria', 'oris', 'negotiator', nan),\n",
       " ('negotiator frumentariae et legumenaria', 'oris', 'negotiator', nan),\n",
       " ('negotiator suariae et pecuariae', 'oris', 'negotiator', nan),\n",
       " ('exactor auri argenti et aeris', 'oris', 'exactor', nan)]"
      ]
     },
     "execution_count": 7,
     "metadata": {},
     "output_type": "execute_result"
    }
   ],
   "source": [
    "occup_tups = sorted(occup_tups, key = lambda x: len(x[0]), reverse=True)\n",
    "occup_tups[:5]"
   ]
  },
  {
   "cell_type": "code",
   "execution_count": 8,
   "metadata": {
    "pycharm": {
     "name": "#%%\n"
    }
   },
   "outputs": [
    {
     "data": {
      "text/plain": [
       "('boarius', 'i', 'boarius', nan)"
      ]
     },
     "execution_count": 8,
     "metadata": {},
     "output_type": "execute_result"
    }
   ],
   "source": [
    "# manual check\n",
    "term2_occup_tup = [tup for tup in occup_tups if tup[0] == \"boarius\"][0]\n",
    "term2_occup_tup"
   ]
  },
  {
   "cell_type": "code",
   "execution_count": 9,
   "metadata": {
    "pycharm": {
     "name": "#%%\n"
    }
   },
   "outputs": [
    {
     "data": {
      "text/plain": [
       "['negotiator artis vestiariae et lintiariae',\n",
       " 'negotiator artis cretaria et vestiaria',\n",
       " 'negotiator frumentariae et legumenaria',\n",
       " 'negotiator suariae et pecuariae',\n",
       " 'exactor auri argenti et aeris',\n",
       " 'negotiator penoris et vinorum',\n",
       " 'negotiator salsari leguminari',\n",
       " 'negotiator artis macellariae',\n",
       " 'negotiator artis purpurariae',\n",
       " 'negotiator cellarum vinarium']"
      ]
     },
     "execution_count": 9,
     "metadata": {},
     "output_type": "execute_result"
    }
   ],
   "source": [
    "base_terms = [tup[0] for tup in occup_tups]\n",
    "base_terms[:10]"
   ]
  },
  {
   "cell_type": "code",
   "execution_count": 10,
   "metadata": {
    "pycharm": {
     "name": "#%%\n"
    }
   },
   "outputs": [
    {
     "data": {
      "text/plain": [
       "['sagarius et pellicarius',\n",
       " 'salsamentarius et vinarius',\n",
       " 'soliarius baxiarius']"
      ]
     },
     "execution_count": 10,
     "metadata": {},
     "output_type": "execute_result"
    }
   ],
   "source": [
    "# review of problematic terms\n",
    "problematic = [tup[3] for tup in occup_tups if ((tup[3] not in base_terms)  & (isinstance(tup[3], str)))]\n",
    "problematic"
   ]
  },
  {
   "cell_type": "code",
   "execution_count": 11,
   "metadata": {},
   "outputs": [],
   "source": [
    "# custom function creating all morphological variants / declensions\n",
    "def decline(nom_sg, ending):\n",
    "    possible_decs = []\n",
    "    for dec in decs.keys(): \n",
    "        if ending == decs[dec][1]:\n",
    "            possible_decs.append(dec)\n",
    "    for pos_dec in possible_decs:\n",
    "        nom_end = decs[pos_dec][0]\n",
    "        if re.match(\"\\w+\" + nom_end + \"$\", nom_sg):\n",
    "            root = re.split(nom_end + \"$\", nom_sg)[0]\n",
    "            all_morphs = [str(root) + end for end in decs[pos_dec]] # unique forms\n",
    "            break\n",
    "    try:\n",
    "        return all_morphs\n",
    "    except:\n",
    "        print(\"declining unsuccesful: \" + nom_sg, ending)\n",
    "        return [nom_sg] \n"
   ]
  },
  {
   "cell_type": "code",
   "execution_count": 12,
   "metadata": {
    "pycharm": {
     "name": "#%%\n"
    }
   },
   "outputs": [
    {
     "name": "stdout",
     "output_type": "stream",
     "text": [
      "['negotiatoribus sagariis et pellicariis', 'negotiatorum sagarii et pellicarii', 'negotiatorem sagarium et pellicarium', 'negotiatore sagarii et pellicarii', 'negotiatoribus sagarii et pellicarii', 'negotiatoribus sagariorum et pellicariorum', 'negotiatoris sagarii et pellicarii', 'negotiatoris sagariorum et pellicariorum', 'negotiatori sagarii et pellicarii', 'negotiatori sagario et pellicario', 'negotiatore sagariorum et pellicariorum', 'negotiatores sagarios et pellicarios', 'negotiatori sagariorum et pellicariorum', 'negotiator sagarii et pellicarii', 'negotiatores sagariorum et pellicariorum', 'negotiator sagariorum et pellicariorum', 'negotiatores sagarii et pellicarii', 'negotiatorem sagariorum et pellicariorum', 'negotiatore sagario et pellicario', 'negotiatorum sagariorum et pellicariorum', 'negotiator sagarius et pellicarius', 'negotiatorem sagarii et pellicarii']\n",
      "['negotiatores salsamentarii et vinarii', 'negotiator salsamentarius et vinarius', 'negotiator salsamentarii et vinarii', 'negotiatoribus salsamentarii et vinarii', 'negotiatorem salsamentarii et vinarii', 'negotiatore salsamentariorum et vinariorum', 'negotiatore salsamentario et vinario', 'negotiatorum salsamentariorum et vinariorum', 'negotiatori salsamentariorum et vinariorum', 'negotiatori salsamentarii et vinarii', 'negotiatorem salsamentarium et vinarium', 'negotiatoris salsamentariorum et vinariorum', 'negotiatores salsamentariorum et vinariorum', 'negotiatoribus salsamentariis et vinariis', 'negotiatorem salsamentariorum et vinariorum', 'negotiatores salsamentarios et vinarios', 'negotiatorum salsamentarii et vinarii', 'negotiator salsamentariorum et vinariorum', 'negotiatore salsamentarii et vinarii', 'negotiatoribus salsamentariorum et vinariorum', 'negotiatoris salsamentarii et vinarii', 'negotiatori salsamentario et vinario']\n",
      "['fabrum soliariumbaxiarium', 'faber soliariusbaxiarius', 'fabri soliariorum baxiariorum', 'fabros soliarii baxiarii', 'fabro soliariobaxiario', 'fabros soliariorum baxiariorum', 'faber soliarii baxiarii', 'fabris soliarii baxiarii', 'fabrorum soliarii baxiarii', 'fabros soliariosbaxiarios', 'faber soliariorum baxiariorum', 'fabri soliariibaxiarii', 'fabro soliariorum baxiariorum', 'fabris soliariisbaxiariis', 'fabrum soliarii baxiarii', 'fabro soliarii baxiarii', 'fabri soliarii baxiarii', 'fabrorum soliariorum baxiariorum', 'fabrorum soliariorumbaxiariorum', 'fabrum soliariorum baxiariorum', 'fabris soliariorum baxiariorum']\n"
     ]
    }
   ],
   "source": [
    "# declination of occupational terms and groupping\n",
    "\n",
    "occups_declined = []\n",
    "for occup_tup in occup_tups:\n",
    "    base_form = occup_tup[0]\n",
    "    if re.match(\"\\w+\\s\\w+\", base_form):\n",
    "        all_morphs = [base_form.replace(str(occup_tup[2]), morph) for morph in decline(occup_tup[2], occup_tup[1])]\n",
    "    else:\n",
    "        if isinstance(occup_tup[3], str):\n",
    "            if \" \" in occup_tup[3]:\n",
    "                term_1_declinations = decline(base_form, occup_tup[1])\n",
    "                if \" et \" in occup_tup[3]:\n",
    "                    twoterms = occup_tup[3].split(\" et \")\n",
    "                    et = True\n",
    "                else:\n",
    "                    twoterms = occup_tup[3].split()\n",
    "                    et = False\n",
    "                term2_occup_tup = [tup for tup in occup_tups if tup[0] == twoterms[0]][0]\n",
    "                term2_declinations = decline(term2_occup_tup[0], term2_occup_tup[1])\n",
    "                term3_occup_tup = [tup for tup in occup_tups if tup[0] == twoterms[1]][0]\n",
    "                term3_declinations = decline(term3_occup_tup[0], term2_occup_tup[1])\n",
    "                if et == True:\n",
    "                    all_morphs = [w1form + \" \" + w2form + \" et \" + w3form for w1form, w2form, w3form in zip(term_1_declinations, term2_declinations, term3_declinations)]\n",
    "                    all_morphs += [w1form + \" \" + term2_declinations[1] + \" et \" + term3_declinations[1] for w1form in term_1_declinations]\n",
    "                    all_morphs += [w1form + \" \" + term2_declinations[6] + \" et \" + term3_declinations[6] for w1form in term_1_declinations]\n",
    "                else:\n",
    "                    all_morphs = [w1form + \" \" + w2form + w3form for w1form, w2form, w3form in zip(term_1_declinations, term2_declinations, term3_declinations)]\n",
    "                    all_morphs += [w1form + \" \" + term2_declinations[1] + \" \" + term3_declinations[1] for w1form in term_1_declinations]\n",
    "                    all_morphs += [w1form + \" \" + term2_declinations[6] + \" \" + term3_declinations[6] for w1form in term_1_declinations]\n",
    "                base_form = all_morphs[0]\n",
    "                print(list(set(all_morphs)))\n",
    "            else:\n",
    "                term_1_declinations = decline(base_form, occup_tup[1])\n",
    "                term2_occup_tup = [tup for tup in occup_tups if tup[0] == occup_tup[3]][0]\n",
    "                term2_declinations = decline(term2_occup_tup[0], term2_occup_tup[1])\n",
    "                all_morphs = [w1form + \" \" + w2form for w1form, w2form in zip(term_1_declinations, term2_declinations)]\n",
    "                all_morphs += [w1form + \" \" + term2_declinations[1] for w1form in term_1_declinations]\n",
    "                all_morphs += [w1form + \" \" + term2_declinations[6] for w1form in term_1_declinations]\n",
    "                base_form = all_morphs[0]\n",
    "        else:\n",
    "            all_morphs = decline(base_form, occup_tup[1])\n",
    "    all_morphs = list(set(all_morphs))\n",
    "    occups_declined.append([base_form, all_morphs])"
   ]
  },
  {
   "cell_type": "code",
   "execution_count": 13,
   "metadata": {
    "pycharm": {
     "name": "#%%\n"
    }
   },
   "outputs": [
    {
     "data": {
      "text/plain": [
       "['negotiator artis vestiariae et lintiariae',\n",
       " 'negotiator artis cretaria et vestiaria',\n",
       " 'negotiator frumentariae et legumenaria',\n",
       " 'negotiator salsamentarius et vinarius',\n",
       " 'negotiator sagarius et pellicarius',\n",
       " 'negotiator suariae et pecuariae',\n",
       " 'exactor auri argenti et aeris',\n",
       " 'negotiator penoris et vinorum',\n",
       " 'negotiator salsari leguminari',\n",
       " 'negotiator artis macellariae',\n",
       " 'negotiator artis purpurariae',\n",
       " 'negotiator cellarum vinarium',\n",
       " 'negotiator artis prossariae',\n",
       " 'negotiator artis vestiariae',\n",
       " 'negotiator artis ratiariae',\n",
       " 'inclusor auri et gemmarum',\n",
       " 'negotiator artis cretaria',\n",
       " 'negotiator campi pecuarii',\n",
       " 'negotiator manticularius',\n",
       " 'negotiator margaritarius']"
      ]
     },
     "execution_count": 13,
     "metadata": {},
     "output_type": "execute_result"
    }
   ],
   "source": [
    "occups_declined = sorted(occups_declined, key = lambda x: len(x[0]), reverse=True)\n",
    "[el[0] for el in occups_declined][:20]"
   ]
  },
  {
   "cell_type": "code",
   "execution_count": 14,
   "metadata": {
    "pycharm": {
     "name": "#%%\n"
    }
   },
   "outputs": [
    {
     "data": {
      "text/plain": [
       "882"
      ]
     },
     "execution_count": 14,
     "metadata": {},
     "output_type": "execute_result"
    }
   ],
   "source": [
    "# how many occupations are declined\n",
    "\n",
    "len(occups_declined)"
   ]
  },
  {
   "cell_type": "code",
   "execution_count": 15,
   "metadata": {},
   "outputs": [],
   "source": [
    "occups_declined_dict = dict(occups_declined)\n"
   ]
  },
  {
   "cell_type": "code",
   "execution_count": 16,
   "metadata": {
    "pycharm": {
     "name": "#%%\n"
    }
   },
   "outputs": [],
   "source": [
    "# saving\n",
    "\n",
    "with open(\"../../data/data_generation/occups_declined_dict.json\", \"w\") as fp:\n",
    "    json.dump(occups_declined_dict, fp, indent=4)\n",
    "    \n"
   ]
  }
 ],
 "metadata": {
  "colab": {
   "authorship_tag": "ABX9TyOKWnvxv3tTbNERCRAysPtc",
   "include_colab_link": true,
   "name": "WORKING_WITH_CLEANED_TEXTS.ipynb",
   "provenance": []
  },
  "hide_input": false,
  "kernelspec": {
   "display_name": "Python 3 (ipykernel)",
   "language": "python",
   "name": "python3"
  },
  "language_info": {
   "codemirror_mode": {
    "name": "ipython",
    "version": 3
   },
   "file_extension": ".py",
   "mimetype": "text/x-python",
   "name": "python",
   "nbconvert_exporter": "python",
   "pygments_lexer": "ipython3",
   "version": "3.10.12"
  },
  "toc": {
   "base_numbering": 1,
   "nav_menu": {},
   "number_sections": true,
   "sideBar": true,
   "skip_h1_title": false,
   "title_cell": "Table of Contents",
   "title_sidebar": "Contents",
   "toc_cell": false,
   "toc_position": {},
   "toc_section_display": true,
   "toc_window_display": false
  },
  "varInspector": {
   "cols": {
    "lenName": 16,
    "lenType": 16,
    "lenVar": 40
   },
   "kernels_config": {
    "python": {
     "delete_cmd_postfix": "",
     "delete_cmd_prefix": "del ",
     "library": "var_list.py",
     "varRefreshCmd": "print(var_dic_list())"
    },
    "r": {
     "delete_cmd_postfix": ") ",
     "delete_cmd_prefix": "rm(",
     "library": "var_list.r",
     "varRefreshCmd": "cat(var_dic_list()) "
    }
   },
   "types_to_exclude": [
    "module",
    "function",
    "builtin_function_or_method",
    "instance",
    "_Feature"
   ],
   "window_display": false
  }
 },
 "nbformat": 4,
 "nbformat_minor": 4
}
